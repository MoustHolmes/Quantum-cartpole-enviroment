import matplotlib
matplotlib.use('Qt4Agg')
import scipy as sp
import numpy as np
from scipy.sparse import linalg as ln
from scipy import sparse as sparse

matplotlib.rcParams['figure.figsize'] = (17,10)

#from scipy.fftpack import fft,ifft

 
class Wave_Packet:
    def __init__(self, n_points, dt,
                 sigma0 =5.0, k0 =1.0, x0 =-150.0, x_begin =-200.0, x_end =200.0,
                 n_q_points =20, sigma_phi =5.0,  q0 =0.0, q_begin =-200.0, q_end =200.0,
                 barrier_height =0.3, barrier_width =1.0,
                 couple_time =0.2, couple_strength =0.2):
        
        self.dt = dt
        self.n_points = n_points
        self.sigma0 = sigma0
        self.k0 = k0
        self.x0 = x0
        
        
        self.prob = np.zeros(n_points)
        self.barrier_width = barrier_width
        self.barrier_height = barrier_height
        
        self.impuls_size = 8
         
        """ 1) Space discretization """
        self.x_begin = x_begin
        self.x_end =x_end
        self.x, self.dx = np.linspace(x_begin, x_end, n_points, retstep=True)
        
        self.dk = 2 * np.pi / (self.n_points * self.dx)
        self.k = -0.5 + self.dk * np.arange(self.n_points)
        
 
        """ 2) Initialization of the wave function to Gaussian wave packet """
        norm = (2.0 * np.pi * sigma0**2)**(-0.25)
        self.psi_x = np.exp(-(self.x - x0)**2 / (4.0 * sigma0**2))
        self.psi_x = (self.psi_x *np.exp(1.0j * k0 * self.x)) #had some trouble with safe casting here
        self.psi_x = (self.psi_x *(2.0 * np.pi * sigma0**2)**(-0.25))
         
        self.psi_k = fft(self.psi_x)
        
        """ 3) Setting up the potential barrier """
        self.potential = np.array(
            [barrier_height if 0.0 < x < barrier_width else 0.0 for x in self.x])
 
        """ 4) Creating the Hamiltonian """
        h_diag = np.ones(n_points) / self.dx**2 + self.potential
        h_non_diag = np.ones(n_points - 1) * (-0.5 / self.dx**2)
        hamiltonian = sparse.diags([h_diag, h_non_diag, h_non_diag], [0, 1, -1])
         
        """ 5) Computing the Crank-Nicolson time evolution matrix """
        implicit = (sparse.eye(self.n_points) - dt / 2.0j * hamiltonian).tocsc()
        explicit = (sparse.eye(self.n_points) + dt / 2.0j * hamiltonian).tocsc() 
        self.evolution_matrix = ln.inv(implicit).dot(explicit).tocsr()
        
        """ 6) Computing the momentum translation matrix"""
        self.impulse_right_matrix = sparse.diags(np.exp(-1.j *self.impuls_size *self.x)).tocsc()
        
        self.impulse_left_matrix = sparse.diags(np.exp(-1.j *self.impuls_size *self.x)).tocsc()

       
        """ 7) Weak measurement parameters """
        self.n_q_points =n_q_points
        self.couple_time = couple_time
        self.couple_strength = couple_strength
        self.q_begin = q_begin
        self.q_end =q_end
        self.q0 = q0
        self.sigma_phi = sigma_phi
       
        self.q, self.dq = np.linspace(q_begin, q_end, n_q_points, retstep=True)
        self.phi = np.exp(-(self.q - q0)**2 / (4.0 * sigma_phi**2))
        self.phi = (self.phi *(2.0 * np.pi * sigma_phi**2)**(-0.25))
        
        I = np.eye(n_q_points)
        self.q_vecs =[I[:,i] for i in range(n_q_points) ]
        
       
        """ 8) coupling matrix """
       
        """creating <q|p|phi>"""
#         qpphi_const = 1j *self.couple_strength *self.couple_time /( 2 *self.dq)
        qpphi_const =  self.couple_strength *self.couple_time /( 2 *self.dq)
#         qpphi_diag = - np.ones(n_q_points) *qpphi_const
        qpphi_non_diag = np.ones(n_q_points - 1) *qpphi_const
        self.qpphi = sparse.diags([-qpphi_non_diag, qpphi_non_diag], [-1, 1]).dot( self.phi)
        
        """creating <q|p^2|phi>"""
        qp2phi_const = - 0.5 *self.couple_strength**2 *self.couple_time**2 *(0.5 / self.dq**2)
        qp2phi_diag = 2 *np.ones(n_q_points) *qp2phi_const 
        qp2phi_non_diag = -np.ones(n_q_points - 1) *qp2phi_const
        self.qp2phi =  sparse.diags([qp2phi_diag, qp2phi_non_diag, qp2phi_non_diag], [0, 1, -1]).dot( self.phi)
        
        """creating M_q = <q|phi> -x*<q|p|phi> -x^2*<q|p^2|phi>"""
        self.M_q = [(sparse.eye(self.n_points) *self.phi.dot(self.q_vecs[i]) 
                    -sparse.diags(self.x) *self.qpphi.dot( self.q_vecs[i])
                    -sparse.diags(self.x**2) *self.qp2phi.dot( self.q_vecs[i])).tocsc()
                    for i in range(n_q_points)]
        
        """creating E_q = M_q^conj * M_q"""
        self.E_q = [(np.dot(self.M_q[i].conj(), self.M_q[i])).real.astype('float64').tocsc() for i in range (n_q_points)]
        self.q_index=np.arange(n_q_points)
        
    def weak_measurement(self):
        """p = <psi|E_q|psi>"""
        p = [ self.E_q[i].dot(self.psi_x).dot(self.psi_x.conj()).real.astype('float64') for i in range (self.n_q_points)]
        print(sum(p))
        p /= sum(p)
        q_ind_mea = np.random.choice(self.q_index, size=1, p=p)[0]

        
        self.psi = self.M_q[q_ind_mea].dot(self.psi_x)/np.sqrt(self.E_q[q_ind_mea].dot( self.psi_x).dot( self.psi_x))
        return self.q[q_ind_mea]
 
    def calc_psi_k(self):
        self.psi_k = fft(self.psi_x)
#         norm = sum(self.psi_k)
#         self.psi_k /=norm
        return self.psi_k
    
    def evolve(self):
        self.psi_x = self.evolution_matrix.dot(self.psi_x)
        self.prob = abs(self.psi_x)**2
 
        norm = sum(self.prob)
        self.prob /= norm
        self.psi_x /= norm**0.5
 
        return self.prob

    def impulse_left(self):
        self.psi_x = self.impulse_left_matrix.dot(self.psi_x)
        self.prob = abs(self.psi_x)**2
 
        norm = sum(self.prob)
        self.prob /= norm
        self.psi_x /= norm**0.5
 
        return self.prob
        
    def impulse_right(self):
        self.psi_x = self.impulse_left_matrix.dot(self.psi_x)
        self.prob = abs(self.psi_x)**2
 
        norm = sum(self.prob)
        self.prob /= norm
        self.psi_x /= norm**0.5
 
        return self.prob
#     def impulse_left(self):
#         self.psi_k = fft(self.psi_x)
#         self.psi_k = np.roll(self.psi_k, self.impuls_size)
#         self.psi_x = ifft(self.psi_k)
#         self.prob = abs(self.psi_x)**2
        
#     def impulse_right(self):
#         self.psi_k = fft(self.psi_x)
#         self.psi_k = np.roll(self.psi_k, -self.impuls_size)
#         self.psi_x = ifft(self.psi_k)
#         self.prob = abs(self.psi_x)**2
       